{
 "cells": [
  {
   "cell_type": "markdown",
   "id": "5e751d30",
   "metadata": {},
   "source": [
    "## Anomaly Detection Techniques and Algorithms\n"
   ]
  },
  {
   "cell_type": "markdown",
   "id": "6b9cf3fc",
   "metadata": {},
   "source": [
    "## Importing the necessary libraries"
   ]
  },
  {
   "cell_type": "code",
   "execution_count": 97,
   "id": "5ee8f150",
   "metadata": {},
   "outputs": [],
   "source": [
    "import warnings\n",
    "warnings.filterwarnings('ignore')\n",
    "import numpy as np   #for linear algebra\n",
    "import pandas as pd  #for data manipulation,data analysis and data visualization\n",
    "import matplotlib.pyplot as plt  #data visualization\n",
    "from sklearn.svm import OneClassSVM #Support vector machine\n",
    "from sklearn.neighbors import LocalOutlierFactor  #Local Outlier Factor Algorithm\n",
    "from sklearn.metrics import accuracy_score  # Accuracy_score  for the predictions\n",
    "from sklearn.metrics import classification_report # classification report of the preedicted values\n",
    "from sklearn.ensemble import IsolationForest #implementation of the isolation forest algorithm\n",
    "from sklearn.neighbors import NearestNeighbors\n",
    "from sklearn.cluster import DBSCAN  #implementation of the DBSCAN algorithm"
   ]
  },
  {
   "cell_type": "markdown",
   "id": "f1ac1086",
   "metadata": {},
   "source": [
    "## Importing the dataset\n"
   ]
  },
  {
   "cell_type": "code",
   "execution_count": null,
   "id": "0db4aef8",
   "metadata": {},
   "outputs": [],
   "source": [
    "dataset=pd.read_csv(\"./dataset.csv\")\n",
    "dataset['is_anomaly']=dataset['is_anomaly'].replace(False,0).replace(True,1)\n",
    "dataset_df = dataset.drop(columns=['is_anomaly'],inplace=False,axis=1)\n",
    "dataset_anomaly_df=dataset['is_anomaly']\n",
    "\n"
   ]
  },
  {
   "cell_type": "code",
   "execution_count": 55,
   "id": "e9750bdb",
   "metadata": {},
   "outputs": [
    {
     "data": {
      "text/html": [
       "<div>\n",
       "<style scoped>\n",
       "    .dataframe tbody tr th:only-of-type {\n",
       "        vertical-align: middle;\n",
       "    }\n",
       "\n",
       "    .dataframe tbody tr th {\n",
       "        vertical-align: top;\n",
       "    }\n",
       "\n",
       "    .dataframe thead th {\n",
       "        text-align: right;\n",
       "    }\n",
       "</style>\n",
       "<table border=\"1\" class=\"dataframe\">\n",
       "  <thead>\n",
       "    <tr style=\"text-align: right;\">\n",
       "      <th></th>\n",
       "      <th>timestamp</th>\n",
       "      <th>value</th>\n",
       "      <th>is_anomaly</th>\n",
       "      <th>predicted</th>\n",
       "    </tr>\n",
       "  </thead>\n",
       "  <tbody>\n",
       "    <tr>\n",
       "      <th>0</th>\n",
       "      <td>1425008573</td>\n",
       "      <td>42</td>\n",
       "      <td>0</td>\n",
       "      <td>44.072500</td>\n",
       "    </tr>\n",
       "    <tr>\n",
       "      <th>1</th>\n",
       "      <td>1425008873</td>\n",
       "      <td>41</td>\n",
       "      <td>0</td>\n",
       "      <td>50.709390</td>\n",
       "    </tr>\n",
       "    <tr>\n",
       "      <th>2</th>\n",
       "      <td>1425009173</td>\n",
       "      <td>41</td>\n",
       "      <td>0</td>\n",
       "      <td>81.405120</td>\n",
       "    </tr>\n",
       "    <tr>\n",
       "      <th>3</th>\n",
       "      <td>1425009473</td>\n",
       "      <td>61</td>\n",
       "      <td>0</td>\n",
       "      <td>39.950367</td>\n",
       "    </tr>\n",
       "    <tr>\n",
       "      <th>4</th>\n",
       "      <td>1425009773</td>\n",
       "      <td>44</td>\n",
       "      <td>0</td>\n",
       "      <td>35.350160</td>\n",
       "    </tr>\n",
       "  </tbody>\n",
       "</table>\n",
       "</div>"
      ],
      "text/plain": [
       "    timestamp  value  is_anomaly  predicted\n",
       "0  1425008573     42           0  44.072500\n",
       "1  1425008873     41           0  50.709390\n",
       "2  1425009173     41           0  81.405120\n",
       "3  1425009473     61           0  39.950367\n",
       "4  1425009773     44           0  35.350160"
      ]
     },
     "execution_count": 55,
     "metadata": {},
     "output_type": "execute_result"
    }
   ],
   "source": [
    "dataset.head()"
   ]
  },
  {
   "cell_type": "code",
   "execution_count": 56,
   "id": "d7cfd059",
   "metadata": {},
   "outputs": [
    {
     "name": "stdout",
     "output_type": "stream",
     "text": [
      "          timestamp         value     predicted\n",
      "count  1.583000e+04  15830.000000  15830.000000\n",
      "mean   1.427383e+09     85.572205     71.870715\n",
      "std    1.370962e+06    321.760918     92.450520\n",
      "min    1.425009e+09      0.000000   -281.389070\n",
      "25%    1.426196e+09     29.000000     32.919171\n",
      "50%    1.427383e+09     47.000000     49.771124\n",
      "75%    1.428570e+09     76.000000     75.948052\n",
      "max    1.429757e+09  13479.000000   2716.127200\n"
     ]
    },
    {
     "data": {
      "text/plain": [
       "(15830, 3)"
      ]
     },
     "execution_count": 56,
     "metadata": {},
     "output_type": "execute_result"
    }
   ],
   "source": [
    "\n",
    "print(dataset_df.describe())\n",
    "dataset_df.shape\n"
   ]
  },
  {
   "cell_type": "code",
   "execution_count": 57,
   "id": "ffa89054",
   "metadata": {},
   "outputs": [
    {
     "name": "stdout",
     "output_type": "stream",
     "text": [
      "Total No of Transactions: 15830\n",
      "No of Anomalous Transactions: 776\n",
      "No of Valid Transactions: 15054\n",
      "Percentage of Anomalous Transactions: 4.902\n",
      "Percentage of Valid Transactions: 95.098\n"
     ]
    }
   ],
   "source": [
    "print(\"Total No of Transactions:\",len(dataset_df))\n",
    "\n",
    "Fraud =dataset[dataset['is_anomaly']==True]\n",
    "print(\"No of Anomalous Transactions:\",len(Fraud))\n",
    "\n",
    "Valid = dataset[dataset['is_anomaly']==False]\n",
    "print(\"No of Valid Transactions:\",len(Valid))\n",
    "\n",
    "outlier_fraction = len(Fraud)/float(len(dataset))\n",
    "valid_fraction = len(Valid)/float(len(dataset))\n",
    "print(\"Percentage of Anomalous Transactions:\",round((outlier_fraction*100),3))\n",
    "print(\"Percentage of Valid Transactions:\",round((valid_fraction*100),3))"
   ]
  },
  {
   "cell_type": "markdown",
   "id": "3dd72a94",
   "metadata": {},
   "source": [
    "## Visualization of the dataset"
   ]
  },
  {
   "cell_type": "code",
   "execution_count": 104,
   "id": "ff2e501b",
   "metadata": {},
   "outputs": [
    {
     "data": {
      "image/png": "[encoded data removed]",
      "text/plain": [
       "<Figure size 360x216 with 1 Axes>"
      ]
     },
     "metadata": {
      "needs_background": "light"
     },
     "output_type": "display_data"
    }
   ],
   "source": [
    "plt.scatter(dataset[\"timestamp\"],dataset[\"value\"],c=\"b\")\n",
    "plt.xlabel(\"Timestamp\")\n",
    "plt.ylabel(\"value\")\n",
    "plt.show()"
   ]
  },
  {
   "cell_type": "markdown",
   "id": "161eadda",
   "metadata": {},
   "source": [
    "## Support Vector Machine"
   ]
  },
  {
   "cell_type": "code",
   "execution_count": 59,
   "id": "6e27582a",
   "metadata": {},
   "outputs": [],
   "source": [
    "model_SVM=OneClassSVM(kernel='linear',degree=3,nu=0.1,max_iter=-1).fit(dataset_df)\n"
   ]
  },
  {
   "cell_type": "code",
   "execution_count": 60,
   "id": "9fb34019",
   "metadata": {},
   "outputs": [],
   "source": [
    "Y_prediction_SVM=model_SVM.predict(dataset_df)\n"
   ]
  },
  {
   "cell_type": "code",
   "execution_count": 61,
   "id": "1eb7229c",
   "metadata": {},
   "outputs": [
    {
     "name": "stdout",
     "output_type": "stream",
     "text": [
      "Total predicted errors in the dataset: 2216\n",
      "The accuracy score of the model : 0.8600126342387872\n",
      "The classification report of the model :\n",
      "               precision    recall  f1-score   support\n",
      "\n",
      "           0       0.95      0.90      0.92     15054\n",
      "           1       0.04      0.09      0.06       776\n",
      "\n",
      "    accuracy                           0.86     15830\n",
      "   macro avg       0.50      0.50      0.49     15830\n",
      "weighted avg       0.91      0.86      0.88     15830\n",
      "\n"
     ]
    }
   ],
   "source": [
    "Y_prediction_SVM[Y_prediction_SVM==1]=0\n",
    "Y_prediction_SVM[Y_prediction_SVM==-1]=1\n",
    "total_errors_SVM=(Y_prediction_SVM!=dataset_anomaly_df).sum()\n",
    "print(\"Total predicted errors in the dataset:\",total_errors_SVM)\n",
    "print(\"The accuracy score of the model :\",accuracy_score(dataset_anomaly_df,Y_prediction_SVM))\n",
    "print(\"The classification report of the model :\\n\",classification_report(dataset_anomaly_df,Y_prediction_SVM))\n",
    "anomaly_values_SVM=dataset_df.iloc[np.where(Y_prediction_SVM==1)]\n"
   ]
  },
  {
   "cell_type": "markdown",
   "id": "aa862977",
   "metadata": {},
   "source": [
    "## Visualization "
   ]
  },
  {
   "cell_type": "code",
   "execution_count": 62,
   "id": "992707b1",
   "metadata": {},
   "outputs": [
    {
     "data": {
      "text/plain": [
       "Text(0.5, 1.0, 'Support Vector Machine')"
      ]
     },
     "execution_count": 62,
     "metadata": {},
     "output_type": "execute_result"
    },
    {
     "data": {
      "image/png": "[encoded data removed]",
      "text/plain": [
       "<Figure size 360x216 with 1 Axes>"
      ]
     },
     "metadata": {
      "needs_background": "light"
     },
     "output_type": "display_data"
    }
   ],
   "source": [
    "plt.scatter(dataset_df[\"timestamp\"],dataset_df[\"value\"])\n",
    "plt.scatter(anomaly_values_SVM[\"timestamp\"],anomaly_values_SVM[\"value\"],c=\"r\")\n",
    "plt.xlabel(\"Timestamp\")\n",
    "plt.ylabel(\"Values\")\n",
    "plt.title(\"Support Vector Machine\")"
   ]
  },
  {
   "cell_type": "markdown",
   "id": "25b3bbc2",
   "metadata": {},
   "source": [
    "## Local Outlier Factor"
   ]
  },
  {
   "cell_type": "code",
   "execution_count": 63,
   "id": "27952603",
   "metadata": {},
   "outputs": [],
   "source": [
    "#Defining the Local Outlier Factor Model \n",
    "model_LOF=LocalOutlierFactor(n_neighbors=20,algorithm='auto',\n",
    "                          leaf_size=30,metric='minkowski',p=2,\n",
    "                          metric_params=None,contamination=0.002)\n",
    "\n",
    "Y_prediction_LOF=model_LOF.fit_predict(dataset_df) \n",
    "scores_prediction_LOF=model_LOF.negative_outlier_factor_"
   ]
  },
  {
   "cell_type": "code",
   "execution_count": 64,
   "id": "b35ccd29",
   "metadata": {},
   "outputs": [
    {
     "name": "stdout",
     "output_type": "stream",
     "text": [
      "Total predicted errors in the dataset: 764\n",
      "The accuracy score of the model : 0.951737207833228\n",
      "The classification report of the model :\n",
      "               precision    recall  f1-score   support\n",
      "\n",
      "           0       0.95      1.00      0.98     15054\n",
      "           1       0.69      0.03      0.05       776\n",
      "\n",
      "    accuracy                           0.95     15830\n",
      "   macro avg       0.82      0.51      0.51     15830\n",
      "weighted avg       0.94      0.95      0.93     15830\n",
      "\n"
     ]
    }
   ],
   "source": [
    "#Reshaping the prediction  values 0 denoting normal data points and 1 denoting the outlier\n",
    "Y_prediction_LOF[Y_prediction_LOF==1]=0\n",
    "Y_prediction_LOF[Y_prediction_LOF==-1]=1\n",
    "total_errors_LOF=(Y_prediction_LOF!=dataset_anomaly_df).sum()\n",
    "anomaly_values_LOF=dataset_df.iloc[np.where(Y_prediction_LOF==1)] # total anomalous valuesin the dataset\n",
    "print(\"Total predicted errors in the dataset:\",total_errors_LOF)\n",
    "print(\"The accuracy score of the model :\",accuracy_score(dataset_anomaly_df,Y_prediction_LOF))\n",
    "print(\"The classification report of the model :\\n\",classification_report(dataset_anomaly_df,Y_prediction_LOF))"
   ]
  },
  {
   "cell_type": "markdown",
   "id": "3f73adb1",
   "metadata": {},
   "source": [
    "## Visualization"
   ]
  },
  {
   "cell_type": "code",
   "execution_count": 65,
   "id": "e35f21f4",
   "metadata": {},
   "outputs": [
    {
     "data": {
      "image/png": "[encoded data removed]",
      "text/plain": [
       "<Figure size 360x216 with 1 Axes>"
      ]
     },
     "metadata": {
      "needs_background": "light"
     },
     "output_type": "display_data"
    }
   ],
   "source": [
    "plt.title(\"Local Outlier Facotr\")\n",
    "plt.scatter(dataset_df[\"timestamp\"],dataset_df[\"value\"])\n",
    "plt.scatter(anomaly_values_LOF[\"timestamp\"],anomaly_values_LOF[\"value\"],c=\"r\")\n",
    "plt.xlabel(\"timestamp\")\n",
    "plt.ylabel(\"value\")\n",
    "plt.show()\n",
    "\n"
   ]
  },
  {
   "cell_type": "markdown",
   "id": "1a2d8d39",
   "metadata": {},
   "source": [
    "## Isolation Forest"
   ]
  },
  {
   "cell_type": "code",
   "execution_count": 66,
   "id": "4f62704b",
   "metadata": {},
   "outputs": [],
   "source": [
    "#defining the isolatin forest model\n",
    "model_Isolation_Forest=IsolationForest(n_estimators=100,contamination=0.002,\n",
    "                       random_state=42, verbose=0)\n",
    "Y_prediction_Isolation_Forest=model_Isolation_Forest.fit_predict(dataset_df) \n",
    "scores_prediction_Isolation_Forest=model_Isolation_Forest.decision_function(dataset_df)"
   ]
  },
  {
   "cell_type": "code",
   "execution_count": 67,
   "id": "d0559a35",
   "metadata": {},
   "outputs": [
    {
     "name": "stdout",
     "output_type": "stream",
     "text": [
      "Total predicted errors in the dataset: 762\n",
      "The accuracy score of the model : 0.9518635502210991\n",
      "The classification report of the model :\n",
      "               precision    recall  f1-score   support\n",
      "\n",
      "           0       0.95      1.00      0.98     15054\n",
      "           1       0.72      0.03      0.06       776\n",
      "\n",
      "    accuracy                           0.95     15830\n",
      "   macro avg       0.84      0.51      0.52     15830\n",
      "weighted avg       0.94      0.95      0.93     15830\n",
      "\n"
     ]
    }
   ],
   "source": [
    "#Reshaping the values \n",
    "Y_prediction_Isolation_Forest[Y_prediction_Isolation_Forest==1]=0\n",
    "Y_prediction_Isolation_Forest[Y_prediction_Isolation_Forest==-1]=1\n",
    "total_errors_Isolation_Forest=(Y_prediction_Isolation_Forest!=dataset_anomaly_df).sum() #calculating the total errors \n",
    "anomaly_values_Isolation_Forest=dataset_df.iloc[np.where(Y_prediction_Isolation_Forest==1)]\n",
    "print(\"Total predicted errors in the dataset:\",total_errors_Isolation_Forest)\n",
    "print(\"The accuracy score of the model :\",accuracy_score(dataset_anomaly_df,Y_prediction_Isolation_Forest))\n",
    "print(\"The classification report of the model :\\n\",classification_report(dataset_anomaly_df,Y_prediction_Isolation_Forest))"
   ]
  },
  {
   "cell_type": "markdown",
   "id": "abbe7a75",
   "metadata": {},
   "source": [
    "## Visualization\n"
   ]
  },
  {
   "cell_type": "code",
   "execution_count": 68,
   "id": "3f5c62b3",
   "metadata": {},
   "outputs": [
    {
     "data": {
      "image/png": "[encoded data removed]",
      "text/plain": [
       "<Figure size 360x216 with 1 Axes>"
      ]
     },
     "metadata": {
      "needs_background": "light"
     },
     "output_type": "display_data"
    }
   ],
   "source": [
    "plt.title(\"Isolation Forest\")\n",
    "plt.scatter(dataset_df[\"timestamp\"],dataset_df[\"value\"])\n",
    "plt.scatter(anomaly_values_Isolation_Forest[\"timestamp\"],anomaly_values_Isolation_Forest[\"value\"],c=\"r\")\n",
    "plt.show()\n"
   ]
  },
  {
   "cell_type": "markdown",
   "id": "abaa713b",
   "metadata": {},
   "source": [
    "## DBSCAN Algorithm"
   ]
  },
  {
   "cell_type": "markdown",
   "id": "46a6ff24",
   "metadata": {},
   "source": [
    "Compute data proximity from each other using Nearest Neighbours"
   ]
  },
  {
   "cell_type": "code",
   "execution_count": 69,
   "id": "d4da48fd",
   "metadata": {},
   "outputs": [],
   "source": [
    "\n",
    "Neighbors_DBSCAN = NearestNeighbors(n_neighbors=2)\n",
    "nbrs_parameter=Neighbors_DBSCAN.fit(dataset_df)\n",
    "distances_parameter,indices_parameter=nbrs_parameter.kneighbors(dataset_df) "
   ]
  },
  {
   "cell_type": "markdown",
   "id": "43e67796",
   "metadata": {},
   "source": [
    "Sorting and plot the distances between the data points"
   ]
  },
  {
   "cell_type": "code",
   "execution_count": 70,
   "id": "51d20972",
   "metadata": {},
   "outputs": [
    {
     "data": {
      "image/png": "[encoded data removed]",
      "text/plain": [
       "<Figure size 360x216 with 1 Axes>"
      ]
     },
     "metadata": {
      "needs_background": "light"
     },
     "output_type": "display_data"
    }
   ],
   "source": [
    "distances_parameter = np.sort(distances_parameter, axis = 0) # sorting the distances\n",
    "distances_parameter = distances_parameter[:, 1] # taking the second column of the sorted distances\n",
    "plt.rcParams['figure.figsize'] = (5,3) # setting the figure size\n",
    "plt.plot(distances_parameter) # plotting the distances\n",
    "plt.show() "
   ]
  },
  {
   "cell_type": "markdown",
   "id": "fa493c18",
   "metadata": {},
   "source": [
    "From the above plot, we note the maximum curvature of the curve is about eight, and thus we picked our Eps as 8.\n",
    "\n",
    "We now have our two parameters as:\n",
    "\n",
    "MinPoints = 2\n",
    "Eps = 550"
   ]
  },
  {
   "cell_type": "markdown",
   "id": "852852d8",
   "metadata": {},
   "source": [
    "\n",
    "## Implementing the DBSCAN model"
   ]
  },
  {
   "cell_type": "code",
   "execution_count": 71,
   "id": "9746ada0",
   "metadata": {},
   "outputs": [],
   "source": [
    "model_DBSCAN = DBSCAN(eps = 400, min_samples = 2)\n",
    "Y_prediction_DBSCAN=model_DBSCAN.fit_predict(dataset_df)\n",
    "labels_DBSCAN = model_DBSCAN.labels_ "
   ]
  },
  {
   "cell_type": "code",
   "execution_count": 72,
   "id": "bec8ef60",
   "metadata": {},
   "outputs": [
    {
     "name": "stdout",
     "output_type": "stream",
     "text": [
      "Total Clusters formed: 170\n",
      "Total Anomalies Observed: 156\n"
     ]
    }
   ],
   "source": [
    "clusters_DBSCAN=len(np.unique(labels_DBSCAN))-1\n",
    "anomaly_score_DBSCAN=list(labels_DBSCAN).count(-1)\n",
    "print(\"Total Clusters formed:\",clusters_DBSCAN)\n",
    "print(\"Total Anomalies Observed:\",anomaly_score_DBSCAN)\n"
   ]
  },
  {
   "cell_type": "markdown",
   "id": "d43992c6",
   "metadata": {},
   "source": [
    "## Visualization"
   ]
  },
  {
   "cell_type": "code",
   "execution_count": 73,
   "id": "5983636d",
   "metadata": {},
   "outputs": [
    {
     "data": {
      "image/png": "[encoded data removed]",
      "text/plain": [
       "<Figure size 360x216 with 1 Axes>"
      ]
     },
     "metadata": {
      "needs_background": "light"
     },
     "output_type": "display_data"
    }
   ],
   "source": [
    "plt.scatter(dataset_df[\"timestamp\"], dataset_df[\"value\"], c = labels_DBSCAN, cmap= \"plasma\") # plotting the clusters\n",
    "plt.xlabel(\"Timestamp\") # X-axis label\n",
    "plt.ylabel(\"Value\") # Y-axis label\n",
    "plt.show() "
   ]
  },
  {
   "cell_type": "code",
   "execution_count": 74,
   "id": "45d59dfa",
   "metadata": {},
   "outputs": [
    {
     "data": {
      "image/png": "[encoded data removed]",
      "text/plain": [
       "<Figure size 360x216 with 1 Axes>"
      ]
     },
     "metadata": {
      "needs_background": "light"
     },
     "output_type": "display_data"
    }
   ],
   "source": [
    "plt.hist(labels_DBSCAN,bins=len(np.unique(labels_DBSCAN)),log=True)\n",
    "plt.show()"
   ]
  },
  {
   "cell_type": "markdown",
   "id": "c2a3ccd9",
   "metadata": {},
   "source": [
    "## Statistical Techniques for Anomaly Detection"
   ]
  },
  {
   "cell_type": "markdown",
   "id": "59b02cbb",
   "metadata": {},
   "source": [
    "## Percentile Method"
   ]
  },
  {
   "cell_type": "markdown",
   "id": "a392969c",
   "metadata": {},
   "source": [
    "## Loading the dataset"
   ]
  },
  {
   "cell_type": "code",
   "execution_count": 75,
   "id": "1eaeb857",
   "metadata": {},
   "outputs": [],
   "source": [
    "iris_dataset=pd.read_csv(\"C:\\\\Users\\\\HP\\\\Desktop\\\\AD Project\\\\Iris.csv\")"
   ]
  },
  {
   "cell_type": "code",
   "execution_count": 76,
   "id": "cdfc2c34",
   "metadata": {},
   "outputs": [
    {
     "data": {
      "text/html": [
       "<div>\n",
       "<style scoped>\n",
       "    .dataframe tbody tr th:only-of-type {\n",
       "        vertical-align: middle;\n",
       "    }\n",
       "\n",
       "    .dataframe tbody tr th {\n",
       "        vertical-align: top;\n",
       "    }\n",
       "\n",
       "    .dataframe thead th {\n",
       "        text-align: right;\n",
       "    }\n",
       "</style>\n",
       "<table border=\"1\" class=\"dataframe\">\n",
       "  <thead>\n",
       "    <tr style=\"text-align: right;\">\n",
       "      <th></th>\n",
       "      <th>Id</th>\n",
       "      <th>SepalLengthCm</th>\n",
       "      <th>SepalWidthCm</th>\n",
       "      <th>PetalLengthCm</th>\n",
       "      <th>PetalWidthCm</th>\n",
       "    </tr>\n",
       "  </thead>\n",
       "  <tbody>\n",
       "    <tr>\n",
       "      <th>count</th>\n",
       "      <td>150.000000</td>\n",
       "      <td>150.000000</td>\n",
       "      <td>150.000000</td>\n",
       "      <td>150.000000</td>\n",
       "      <td>150.000000</td>\n",
       "    </tr>\n",
       "    <tr>\n",
       "      <th>mean</th>\n",
       "      <td>75.500000</td>\n",
       "      <td>5.843333</td>\n",
       "      <td>3.054000</td>\n",
       "      <td>3.758667</td>\n",
       "      <td>1.198667</td>\n",
       "    </tr>\n",
       "    <tr>\n",
       "      <th>std</th>\n",
       "      <td>43.445368</td>\n",
       "      <td>0.828066</td>\n",
       "      <td>0.433594</td>\n",
       "      <td>1.764420</td>\n",
       "      <td>0.763161</td>\n",
       "    </tr>\n",
       "    <tr>\n",
       "      <th>min</th>\n",
       "      <td>1.000000</td>\n",
       "      <td>4.300000</td>\n",
       "      <td>2.000000</td>\n",
       "      <td>1.000000</td>\n",
       "      <td>0.100000</td>\n",
       "    </tr>\n",
       "    <tr>\n",
       "      <th>25%</th>\n",
       "      <td>38.250000</td>\n",
       "      <td>5.100000</td>\n",
       "      <td>2.800000</td>\n",
       "      <td>1.600000</td>\n",
       "      <td>0.300000</td>\n",
       "    </tr>\n",
       "    <tr>\n",
       "      <th>50%</th>\n",
       "      <td>75.500000</td>\n",
       "      <td>5.800000</td>\n",
       "      <td>3.000000</td>\n",
       "      <td>4.350000</td>\n",
       "      <td>1.300000</td>\n",
       "    </tr>\n",
       "    <tr>\n",
       "      <th>75%</th>\n",
       "      <td>112.750000</td>\n",
       "      <td>6.400000</td>\n",
       "      <td>3.300000</td>\n",
       "      <td>5.100000</td>\n",
       "      <td>1.800000</td>\n",
       "    </tr>\n",
       "    <tr>\n",
       "      <th>max</th>\n",
       "      <td>150.000000</td>\n",
       "      <td>7.900000</td>\n",
       "      <td>4.400000</td>\n",
       "      <td>6.900000</td>\n",
       "      <td>2.500000</td>\n",
       "    </tr>\n",
       "  </tbody>\n",
       "</table>\n",
       "</div>"
      ],
      "text/plain": [
       "               Id  SepalLengthCm  SepalWidthCm  PetalLengthCm  PetalWidthCm\n",
       "count  150.000000     150.000000    150.000000     150.000000    150.000000\n",
       "mean    75.500000       5.843333      3.054000       3.758667      1.198667\n",
       "std     43.445368       0.828066      0.433594       1.764420      0.763161\n",
       "min      1.000000       4.300000      2.000000       1.000000      0.100000\n",
       "25%     38.250000       5.100000      2.800000       1.600000      0.300000\n",
       "50%     75.500000       5.800000      3.000000       4.350000      1.300000\n",
       "75%    112.750000       6.400000      3.300000       5.100000      1.800000\n",
       "max    150.000000       7.900000      4.400000       6.900000      2.500000"
      ]
     },
     "execution_count": 76,
     "metadata": {},
     "output_type": "execute_result"
    }
   ],
   "source": [
    "iris_dataset.describe()\n"
   ]
  },
  {
   "cell_type": "code",
   "execution_count": 77,
   "id": "5bf471d4",
   "metadata": {},
   "outputs": [
    {
     "data": {
      "text/plain": [
       "(150, 6)"
      ]
     },
     "execution_count": 77,
     "metadata": {},
     "output_type": "execute_result"
    }
   ],
   "source": [
    "iris_dataset.shape"
   ]
  },
  {
   "cell_type": "markdown",
   "id": "23ce7727",
   "metadata": {},
   "source": [
    "## Calculating the minimum and the maximum threshold values"
   ]
  },
  {
   "cell_type": "code",
   "execution_count": 78,
   "id": "de2665e4",
   "metadata": {},
   "outputs": [],
   "source": [
    "min_threshold,max_threshold=iris_dataset.SepalLengthCm.quantile([0.001,0.999])\n",
    "\n"
   ]
  },
  {
   "cell_type": "markdown",
   "id": "37606482",
   "metadata": {},
   "source": [
    "## Anomalies with the threshold value < minimum threshold"
   ]
  },
  {
   "cell_type": "code",
   "execution_count": 79,
   "id": "868518d8",
   "metadata": {},
   "outputs": [
    {
     "data": {
      "text/html": [
       "<div>\n",
       "<style scoped>\n",
       "    .dataframe tbody tr th:only-of-type {\n",
       "        vertical-align: middle;\n",
       "    }\n",
       "\n",
       "    .dataframe tbody tr th {\n",
       "        vertical-align: top;\n",
       "    }\n",
       "\n",
       "    .dataframe thead th {\n",
       "        text-align: right;\n",
       "    }\n",
       "</style>\n",
       "<table border=\"1\" class=\"dataframe\">\n",
       "  <thead>\n",
       "    <tr style=\"text-align: right;\">\n",
       "      <th></th>\n",
       "      <th>Id</th>\n",
       "      <th>SepalLengthCm</th>\n",
       "      <th>SepalWidthCm</th>\n",
       "      <th>PetalLengthCm</th>\n",
       "      <th>PetalWidthCm</th>\n",
       "      <th>Species</th>\n",
       "    </tr>\n",
       "  </thead>\n",
       "  <tbody>\n",
       "    <tr>\n",
       "      <th>13</th>\n",
       "      <td>14</td>\n",
       "      <td>4.3</td>\n",
       "      <td>3.0</td>\n",
       "      <td>1.1</td>\n",
       "      <td>0.1</td>\n",
       "      <td>Iris-setosa</td>\n",
       "    </tr>\n",
       "  </tbody>\n",
       "</table>\n",
       "</div>"
      ],
      "text/plain": [
       "    Id  SepalLengthCm  SepalWidthCm  PetalLengthCm  PetalWidthCm      Species\n",
       "13  14            4.3           3.0            1.1           0.1  Iris-setosa"
      ]
     },
     "execution_count": 79,
     "metadata": {},
     "output_type": "execute_result"
    }
   ],
   "source": [
    "iris_dataset[(iris_dataset.SepalLengthCm<min_threshold )]\n"
   ]
  },
  {
   "cell_type": "markdown",
   "id": "c10b9de4",
   "metadata": {},
   "source": [
    "## Anomalies wiht the threshold value greater than the maximum Threshold"
   ]
  },
  {
   "cell_type": "code",
   "execution_count": 80,
   "id": "d4f7bb56",
   "metadata": {},
   "outputs": [
    {
     "data": {
      "text/html": [
       "<div>\n",
       "<style scoped>\n",
       "    .dataframe tbody tr th:only-of-type {\n",
       "        vertical-align: middle;\n",
       "    }\n",
       "\n",
       "    .dataframe tbody tr th {\n",
       "        vertical-align: top;\n",
       "    }\n",
       "\n",
       "    .dataframe thead th {\n",
       "        text-align: right;\n",
       "    }\n",
       "</style>\n",
       "<table border=\"1\" class=\"dataframe\">\n",
       "  <thead>\n",
       "    <tr style=\"text-align: right;\">\n",
       "      <th></th>\n",
       "      <th>Id</th>\n",
       "      <th>SepalLengthCm</th>\n",
       "      <th>SepalWidthCm</th>\n",
       "      <th>PetalLengthCm</th>\n",
       "      <th>PetalWidthCm</th>\n",
       "      <th>Species</th>\n",
       "    </tr>\n",
       "  </thead>\n",
       "  <tbody>\n",
       "    <tr>\n",
       "      <th>131</th>\n",
       "      <td>132</td>\n",
       "      <td>7.9</td>\n",
       "      <td>3.8</td>\n",
       "      <td>6.4</td>\n",
       "      <td>2.0</td>\n",
       "      <td>Iris-virginica</td>\n",
       "    </tr>\n",
       "  </tbody>\n",
       "</table>\n",
       "</div>"
      ],
      "text/plain": [
       "      Id  SepalLengthCm  SepalWidthCm  PetalLengthCm  PetalWidthCm  \\\n",
       "131  132            7.9           3.8            6.4           2.0   \n",
       "\n",
       "            Species  \n",
       "131  Iris-virginica  "
      ]
     },
     "execution_count": 80,
     "metadata": {},
     "output_type": "execute_result"
    }
   ],
   "source": [
    "iris_dataset[(iris_dataset.SepalLengthCm>max_threshold)]"
   ]
  },
  {
   "cell_type": "markdown",
   "id": "71c74b2b",
   "metadata": {},
   "source": [
    "## Anomaly Detection using Standard Deviation"
   ]
  },
  {
   "cell_type": "code",
   "execution_count": 81,
   "id": "f8cee923",
   "metadata": {},
   "outputs": [],
   "source": [
    "mean_iris=iris_dataset.PetalLengthCm.mean()"
   ]
  },
  {
   "cell_type": "code",
   "execution_count": 82,
   "id": "729c1e2f",
   "metadata": {},
   "outputs": [
    {
     "data": {
      "text/plain": [
       "5.523087086618931"
      ]
     },
     "execution_count": 82,
     "metadata": {},
     "output_type": "execute_result"
    }
   ],
   "source": [
    "upper_bound=mean_iris+iris_dataset.PetalLengthCm.std()\n",
    "upper_bound"
   ]
  },
  {
   "cell_type": "code",
   "execution_count": 83,
   "id": "7e8bbe93",
   "metadata": {},
   "outputs": [
    {
     "data": {
      "text/plain": [
       "1.9942462467144075"
      ]
     },
     "execution_count": 83,
     "metadata": {},
     "output_type": "execute_result"
    }
   ],
   "source": [
    "lower_bound=mean_iris-iris_dataset.PetalLengthCm.std()\n",
    "lower_bound"
   ]
  },
  {
   "cell_type": "code",
   "execution_count": 84,
   "id": "7e44aed5",
   "metadata": {},
   "outputs": [
    {
     "data": {
      "text/html": [
       "<div>\n",
       "<style scoped>\n",
       "    .dataframe tbody tr th:only-of-type {\n",
       "        vertical-align: middle;\n",
       "    }\n",
       "\n",
       "    .dataframe tbody tr th {\n",
       "        vertical-align: top;\n",
       "    }\n",
       "\n",
       "    .dataframe thead th {\n",
       "        text-align: right;\n",
       "    }\n",
       "</style>\n",
       "<table border=\"1\" class=\"dataframe\">\n",
       "  <thead>\n",
       "    <tr style=\"text-align: right;\">\n",
       "      <th></th>\n",
       "      <th>Id</th>\n",
       "      <th>SepalLengthCm</th>\n",
       "      <th>SepalWidthCm</th>\n",
       "      <th>PetalLengthCm</th>\n",
       "      <th>PetalWidthCm</th>\n",
       "      <th>Species</th>\n",
       "    </tr>\n",
       "  </thead>\n",
       "  <tbody>\n",
       "    <tr>\n",
       "      <th>0</th>\n",
       "      <td>1</td>\n",
       "      <td>5.1</td>\n",
       "      <td>3.5</td>\n",
       "      <td>1.4</td>\n",
       "      <td>0.2</td>\n",
       "      <td>Iris-setosa</td>\n",
       "    </tr>\n",
       "    <tr>\n",
       "      <th>1</th>\n",
       "      <td>2</td>\n",
       "      <td>4.9</td>\n",
       "      <td>3.0</td>\n",
       "      <td>1.4</td>\n",
       "      <td>0.2</td>\n",
       "      <td>Iris-setosa</td>\n",
       "    </tr>\n",
       "    <tr>\n",
       "      <th>2</th>\n",
       "      <td>3</td>\n",
       "      <td>4.7</td>\n",
       "      <td>3.2</td>\n",
       "      <td>1.3</td>\n",
       "      <td>0.2</td>\n",
       "      <td>Iris-setosa</td>\n",
       "    </tr>\n",
       "    <tr>\n",
       "      <th>3</th>\n",
       "      <td>4</td>\n",
       "      <td>4.6</td>\n",
       "      <td>3.1</td>\n",
       "      <td>1.5</td>\n",
       "      <td>0.2</td>\n",
       "      <td>Iris-setosa</td>\n",
       "    </tr>\n",
       "    <tr>\n",
       "      <th>4</th>\n",
       "      <td>5</td>\n",
       "      <td>5.0</td>\n",
       "      <td>3.6</td>\n",
       "      <td>1.4</td>\n",
       "      <td>0.2</td>\n",
       "      <td>Iris-setosa</td>\n",
       "    </tr>\n",
       "    <tr>\n",
       "      <th>...</th>\n",
       "      <td>...</td>\n",
       "      <td>...</td>\n",
       "      <td>...</td>\n",
       "      <td>...</td>\n",
       "      <td>...</td>\n",
       "      <td>...</td>\n",
       "    </tr>\n",
       "    <tr>\n",
       "      <th>135</th>\n",
       "      <td>136</td>\n",
       "      <td>7.7</td>\n",
       "      <td>3.0</td>\n",
       "      <td>6.1</td>\n",
       "      <td>2.3</td>\n",
       "      <td>Iris-virginica</td>\n",
       "    </tr>\n",
       "    <tr>\n",
       "      <th>136</th>\n",
       "      <td>137</td>\n",
       "      <td>6.3</td>\n",
       "      <td>3.4</td>\n",
       "      <td>5.6</td>\n",
       "      <td>2.4</td>\n",
       "      <td>Iris-virginica</td>\n",
       "    </tr>\n",
       "    <tr>\n",
       "      <th>140</th>\n",
       "      <td>141</td>\n",
       "      <td>6.7</td>\n",
       "      <td>3.1</td>\n",
       "      <td>5.6</td>\n",
       "      <td>2.4</td>\n",
       "      <td>Iris-virginica</td>\n",
       "    </tr>\n",
       "    <tr>\n",
       "      <th>143</th>\n",
       "      <td>144</td>\n",
       "      <td>6.8</td>\n",
       "      <td>3.2</td>\n",
       "      <td>5.9</td>\n",
       "      <td>2.3</td>\n",
       "      <td>Iris-virginica</td>\n",
       "    </tr>\n",
       "    <tr>\n",
       "      <th>144</th>\n",
       "      <td>145</td>\n",
       "      <td>6.7</td>\n",
       "      <td>3.3</td>\n",
       "      <td>5.7</td>\n",
       "      <td>2.5</td>\n",
       "      <td>Iris-virginica</td>\n",
       "    </tr>\n",
       "  </tbody>\n",
       "</table>\n",
       "<p>75 rows × 6 columns</p>\n",
       "</div>"
      ],
      "text/plain": [
       "      Id  SepalLengthCm  SepalWidthCm  PetalLengthCm  PetalWidthCm  \\\n",
       "0      1            5.1           3.5            1.4           0.2   \n",
       "1      2            4.9           3.0            1.4           0.2   \n",
       "2      3            4.7           3.2            1.3           0.2   \n",
       "3      4            4.6           3.1            1.5           0.2   \n",
       "4      5            5.0           3.6            1.4           0.2   \n",
       "..   ...            ...           ...            ...           ...   \n",
       "135  136            7.7           3.0            6.1           2.3   \n",
       "136  137            6.3           3.4            5.6           2.4   \n",
       "140  141            6.7           3.1            5.6           2.4   \n",
       "143  144            6.8           3.2            5.9           2.3   \n",
       "144  145            6.7           3.3            5.7           2.5   \n",
       "\n",
       "            Species  \n",
       "0       Iris-setosa  \n",
       "1       Iris-setosa  \n",
       "2       Iris-setosa  \n",
       "3       Iris-setosa  \n",
       "4       Iris-setosa  \n",
       "..              ...  \n",
       "135  Iris-virginica  \n",
       "136  Iris-virginica  \n",
       "140  Iris-virginica  \n",
       "143  Iris-virginica  \n",
       "144  Iris-virginica  \n",
       "\n",
       "[75 rows x 6 columns]"
      ]
     },
     "execution_count": 84,
     "metadata": {},
     "output_type": "execute_result"
    }
   ],
   "source": [
    "iris_dataset[(iris_dataset.PetalLengthCm<lower_bound)| (iris_dataset.PetalLengthCm>upper_bound)]\n"
   ]
  },
  {
   "cell_type": "markdown",
   "id": "e8f66d0c",
   "metadata": {},
   "source": [
    "## Anomaly Detection using Z -Score"
   ]
  },
  {
   "cell_type": "code",
   "execution_count": 85,
   "id": "9832be3f",
   "metadata": {},
   "outputs": [],
   "source": [
    "iris_dataset['zscore']=(iris_dataset.PetalLengthCm-mean_iris)/iris_dataset.PetalLengthCm.std()"
   ]
  },
  {
   "cell_type": "code",
   "execution_count": 86,
   "id": "87441dec",
   "metadata": {},
   "outputs": [
    {
     "data": {
      "text/plain": [
       "(150, 7)"
      ]
     },
     "execution_count": 86,
     "metadata": {},
     "output_type": "execute_result"
    }
   ],
   "source": [
    "iris_dataset.shape"
   ]
  },
  {
   "cell_type": "code",
   "execution_count": 87,
   "id": "f9c1da27",
   "metadata": {},
   "outputs": [
    {
     "data": {
      "text/html": [
       "<div>\n",
       "<style scoped>\n",
       "    .dataframe tbody tr th:only-of-type {\n",
       "        vertical-align: middle;\n",
       "    }\n",
       "\n",
       "    .dataframe tbody tr th {\n",
       "        vertical-align: top;\n",
       "    }\n",
       "\n",
       "    .dataframe thead th {\n",
       "        text-align: right;\n",
       "    }\n",
       "</style>\n",
       "<table border=\"1\" class=\"dataframe\">\n",
       "  <thead>\n",
       "    <tr style=\"text-align: right;\">\n",
       "      <th></th>\n",
       "      <th>Id</th>\n",
       "      <th>SepalLengthCm</th>\n",
       "      <th>SepalWidthCm</th>\n",
       "      <th>PetalLengthCm</th>\n",
       "      <th>PetalWidthCm</th>\n",
       "      <th>Species</th>\n",
       "      <th>zscore</th>\n",
       "    </tr>\n",
       "  </thead>\n",
       "  <tbody>\n",
       "    <tr>\n",
       "      <th>0</th>\n",
       "      <td>1</td>\n",
       "      <td>5.1</td>\n",
       "      <td>3.5</td>\n",
       "      <td>1.4</td>\n",
       "      <td>0.2</td>\n",
       "      <td>Iris-setosa</td>\n",
       "      <td>-1.336794</td>\n",
       "    </tr>\n",
       "    <tr>\n",
       "      <th>1</th>\n",
       "      <td>2</td>\n",
       "      <td>4.9</td>\n",
       "      <td>3.0</td>\n",
       "      <td>1.4</td>\n",
       "      <td>0.2</td>\n",
       "      <td>Iris-setosa</td>\n",
       "      <td>-1.336794</td>\n",
       "    </tr>\n",
       "    <tr>\n",
       "      <th>2</th>\n",
       "      <td>3</td>\n",
       "      <td>4.7</td>\n",
       "      <td>3.2</td>\n",
       "      <td>1.3</td>\n",
       "      <td>0.2</td>\n",
       "      <td>Iris-setosa</td>\n",
       "      <td>-1.393470</td>\n",
       "    </tr>\n",
       "    <tr>\n",
       "      <th>3</th>\n",
       "      <td>4</td>\n",
       "      <td>4.6</td>\n",
       "      <td>3.1</td>\n",
       "      <td>1.5</td>\n",
       "      <td>0.2</td>\n",
       "      <td>Iris-setosa</td>\n",
       "      <td>-1.280118</td>\n",
       "    </tr>\n",
       "    <tr>\n",
       "      <th>4</th>\n",
       "      <td>5</td>\n",
       "      <td>5.0</td>\n",
       "      <td>3.6</td>\n",
       "      <td>1.4</td>\n",
       "      <td>0.2</td>\n",
       "      <td>Iris-setosa</td>\n",
       "      <td>-1.336794</td>\n",
       "    </tr>\n",
       "  </tbody>\n",
       "</table>\n",
       "</div>"
      ],
      "text/plain": [
       "   Id  SepalLengthCm  SepalWidthCm  PetalLengthCm  PetalWidthCm      Species  \\\n",
       "0   1            5.1           3.5            1.4           0.2  Iris-setosa   \n",
       "1   2            4.9           3.0            1.4           0.2  Iris-setosa   \n",
       "2   3            4.7           3.2            1.3           0.2  Iris-setosa   \n",
       "3   4            4.6           3.1            1.5           0.2  Iris-setosa   \n",
       "4   5            5.0           3.6            1.4           0.2  Iris-setosa   \n",
       "\n",
       "     zscore  \n",
       "0 -1.336794  \n",
       "1 -1.336794  \n",
       "2 -1.393470  \n",
       "3 -1.280118  \n",
       "4 -1.336794  "
      ]
     },
     "execution_count": 87,
     "metadata": {},
     "output_type": "execute_result"
    }
   ],
   "source": [
    "iris_dataset.head()"
   ]
  },
  {
   "cell_type": "code",
   "execution_count": 88,
   "id": "9ac2c7b8",
   "metadata": {},
   "outputs": [],
   "source": [
    "min_iris=iris_dataset.zscore.min()"
   ]
  },
  {
   "cell_type": "code",
   "execution_count": 89,
   "id": "63050e71",
   "metadata": {},
   "outputs": [],
   "source": [
    "max_iris=iris_dataset.zscore.max()"
   ]
  },
  {
   "cell_type": "code",
   "execution_count": 90,
   "id": "8b52ab49",
   "metadata": {},
   "outputs": [],
   "source": [
    "average_zscore=(max_iris-min_iris)/2"
   ]
  },
  {
   "cell_type": "code",
   "execution_count": 91,
   "id": "31593ab2",
   "metadata": {},
   "outputs": [],
   "source": [
    "upper_limit_zscore=(iris_dataset.PetalLengthCm+average_zscore)/2\n",
    "lower_limit_zscore=(average_zscore-iris_dataset.PetalLengthCm)/2"
   ]
  },
  {
   "cell_type": "code",
   "execution_count": 92,
   "id": "3252f7cd",
   "metadata": {},
   "outputs": [
    {
     "data": {
      "text/html": [
       "<div>\n",
       "<style scoped>\n",
       "    .dataframe tbody tr th:only-of-type {\n",
       "        vertical-align: middle;\n",
       "    }\n",
       "\n",
       "    .dataframe tbody tr th {\n",
       "        vertical-align: top;\n",
       "    }\n",
       "\n",
       "    .dataframe thead th {\n",
       "        text-align: right;\n",
       "    }\n",
       "</style>\n",
       "<table border=\"1\" class=\"dataframe\">\n",
       "  <thead>\n",
       "    <tr style=\"text-align: right;\">\n",
       "      <th></th>\n",
       "      <th>Id</th>\n",
       "      <th>SepalLengthCm</th>\n",
       "      <th>SepalWidthCm</th>\n",
       "      <th>PetalLengthCm</th>\n",
       "      <th>PetalWidthCm</th>\n",
       "      <th>Species</th>\n",
       "      <th>zscore</th>\n",
       "    </tr>\n",
       "  </thead>\n",
       "  <tbody>\n",
       "    <tr>\n",
       "      <th>5</th>\n",
       "      <td>6</td>\n",
       "      <td>5.4</td>\n",
       "      <td>3.9</td>\n",
       "      <td>1.7</td>\n",
       "      <td>0.4</td>\n",
       "      <td>Iris-setosa</td>\n",
       "      <td>-1.166767</td>\n",
       "    </tr>\n",
       "    <tr>\n",
       "      <th>18</th>\n",
       "      <td>19</td>\n",
       "      <td>5.7</td>\n",
       "      <td>3.8</td>\n",
       "      <td>1.7</td>\n",
       "      <td>0.3</td>\n",
       "      <td>Iris-setosa</td>\n",
       "      <td>-1.166767</td>\n",
       "    </tr>\n",
       "    <tr>\n",
       "      <th>20</th>\n",
       "      <td>21</td>\n",
       "      <td>5.4</td>\n",
       "      <td>3.4</td>\n",
       "      <td>1.7</td>\n",
       "      <td>0.2</td>\n",
       "      <td>Iris-setosa</td>\n",
       "      <td>-1.166767</td>\n",
       "    </tr>\n",
       "    <tr>\n",
       "      <th>23</th>\n",
       "      <td>24</td>\n",
       "      <td>5.1</td>\n",
       "      <td>3.3</td>\n",
       "      <td>1.7</td>\n",
       "      <td>0.5</td>\n",
       "      <td>Iris-setosa</td>\n",
       "      <td>-1.166767</td>\n",
       "    </tr>\n",
       "    <tr>\n",
       "      <th>24</th>\n",
       "      <td>25</td>\n",
       "      <td>4.8</td>\n",
       "      <td>3.4</td>\n",
       "      <td>1.9</td>\n",
       "      <td>0.2</td>\n",
       "      <td>Iris-setosa</td>\n",
       "      <td>-1.053415</td>\n",
       "    </tr>\n",
       "    <tr>\n",
       "      <th>...</th>\n",
       "      <td>...</td>\n",
       "      <td>...</td>\n",
       "      <td>...</td>\n",
       "      <td>...</td>\n",
       "      <td>...</td>\n",
       "      <td>...</td>\n",
       "      <td>...</td>\n",
       "    </tr>\n",
       "    <tr>\n",
       "      <th>145</th>\n",
       "      <td>146</td>\n",
       "      <td>6.7</td>\n",
       "      <td>3.0</td>\n",
       "      <td>5.2</td>\n",
       "      <td>2.3</td>\n",
       "      <td>Iris-virginica</td>\n",
       "      <td>0.816888</td>\n",
       "    </tr>\n",
       "    <tr>\n",
       "      <th>146</th>\n",
       "      <td>147</td>\n",
       "      <td>6.3</td>\n",
       "      <td>2.5</td>\n",
       "      <td>5.0</td>\n",
       "      <td>1.9</td>\n",
       "      <td>Iris-virginica</td>\n",
       "      <td>0.703536</td>\n",
       "    </tr>\n",
       "    <tr>\n",
       "      <th>147</th>\n",
       "      <td>148</td>\n",
       "      <td>6.5</td>\n",
       "      <td>3.0</td>\n",
       "      <td>5.2</td>\n",
       "      <td>2.0</td>\n",
       "      <td>Iris-virginica</td>\n",
       "      <td>0.816888</td>\n",
       "    </tr>\n",
       "    <tr>\n",
       "      <th>148</th>\n",
       "      <td>149</td>\n",
       "      <td>6.2</td>\n",
       "      <td>3.4</td>\n",
       "      <td>5.4</td>\n",
       "      <td>2.3</td>\n",
       "      <td>Iris-virginica</td>\n",
       "      <td>0.930239</td>\n",
       "    </tr>\n",
       "    <tr>\n",
       "      <th>149</th>\n",
       "      <td>150</td>\n",
       "      <td>5.9</td>\n",
       "      <td>3.0</td>\n",
       "      <td>5.1</td>\n",
       "      <td>1.8</td>\n",
       "      <td>Iris-virginica</td>\n",
       "      <td>0.760212</td>\n",
       "    </tr>\n",
       "  </tbody>\n",
       "</table>\n",
       "<p>106 rows × 7 columns</p>\n",
       "</div>"
      ],
      "text/plain": [
       "      Id  SepalLengthCm  SepalWidthCm  PetalLengthCm  PetalWidthCm  \\\n",
       "5      6            5.4           3.9            1.7           0.4   \n",
       "18    19            5.7           3.8            1.7           0.3   \n",
       "20    21            5.4           3.4            1.7           0.2   \n",
       "23    24            5.1           3.3            1.7           0.5   \n",
       "24    25            4.8           3.4            1.9           0.2   \n",
       "..   ...            ...           ...            ...           ...   \n",
       "145  146            6.7           3.0            5.2           2.3   \n",
       "146  147            6.3           2.5            5.0           1.9   \n",
       "147  148            6.5           3.0            5.2           2.0   \n",
       "148  149            6.2           3.4            5.4           2.3   \n",
       "149  150            5.9           3.0            5.1           1.8   \n",
       "\n",
       "            Species    zscore  \n",
       "5       Iris-setosa -1.166767  \n",
       "18      Iris-setosa -1.166767  \n",
       "20      Iris-setosa -1.166767  \n",
       "23      Iris-setosa -1.166767  \n",
       "24      Iris-setosa -1.053415  \n",
       "..              ...       ...  \n",
       "145  Iris-virginica  0.816888  \n",
       "146  Iris-virginica  0.703536  \n",
       "147  Iris-virginica  0.816888  \n",
       "148  Iris-virginica  0.930239  \n",
       "149  Iris-virginica  0.760212  \n",
       "\n",
       "[106 rows x 7 columns]"
      ]
     },
     "execution_count": 92,
     "metadata": {},
     "output_type": "execute_result"
    }
   ],
   "source": [
    "iris_dataset[(iris_dataset.PetalLengthCm<lower_limit_zscore)|(iris_dataset.PetalLengthCm>upper_limit_zscore)]"
   ]
  },
  {
   "cell_type": "markdown",
   "id": "d8aee702",
   "metadata": {},
   "source": [
    "## Anomaly detection using Interquartile Range"
   ]
  },
  {
   "cell_type": "code",
   "execution_count": 93,
   "id": "905c0edc",
   "metadata": {},
   "outputs": [
    {
     "data": {
      "text/html": [
       "<div>\n",
       "<style scoped>\n",
       "    .dataframe tbody tr th:only-of-type {\n",
       "        vertical-align: middle;\n",
       "    }\n",
       "\n",
       "    .dataframe tbody tr th {\n",
       "        vertical-align: top;\n",
       "    }\n",
       "\n",
       "    .dataframe thead th {\n",
       "        text-align: right;\n",
       "    }\n",
       "</style>\n",
       "<table border=\"1\" class=\"dataframe\">\n",
       "  <thead>\n",
       "    <tr style=\"text-align: right;\">\n",
       "      <th></th>\n",
       "      <th>Id</th>\n",
       "      <th>SepalLengthCm</th>\n",
       "      <th>SepalWidthCm</th>\n",
       "      <th>PetalLengthCm</th>\n",
       "      <th>PetalWidthCm</th>\n",
       "      <th>zscore</th>\n",
       "    </tr>\n",
       "  </thead>\n",
       "  <tbody>\n",
       "    <tr>\n",
       "      <th>count</th>\n",
       "      <td>150.000000</td>\n",
       "      <td>150.000000</td>\n",
       "      <td>150.000000</td>\n",
       "      <td>150.000000</td>\n",
       "      <td>150.000000</td>\n",
       "      <td>1.500000e+02</td>\n",
       "    </tr>\n",
       "    <tr>\n",
       "      <th>mean</th>\n",
       "      <td>75.500000</td>\n",
       "      <td>5.843333</td>\n",
       "      <td>3.054000</td>\n",
       "      <td>3.758667</td>\n",
       "      <td>1.198667</td>\n",
       "      <td>-2.043551e-15</td>\n",
       "    </tr>\n",
       "    <tr>\n",
       "      <th>std</th>\n",
       "      <td>43.445368</td>\n",
       "      <td>0.828066</td>\n",
       "      <td>0.433594</td>\n",
       "      <td>1.764420</td>\n",
       "      <td>0.763161</td>\n",
       "      <td>1.000000e+00</td>\n",
       "    </tr>\n",
       "    <tr>\n",
       "      <th>min</th>\n",
       "      <td>1.000000</td>\n",
       "      <td>4.300000</td>\n",
       "      <td>2.000000</td>\n",
       "      <td>1.000000</td>\n",
       "      <td>0.100000</td>\n",
       "      <td>-1.563497e+00</td>\n",
       "    </tr>\n",
       "    <tr>\n",
       "      <th>25%</th>\n",
       "      <td>38.250000</td>\n",
       "      <td>5.100000</td>\n",
       "      <td>2.800000</td>\n",
       "      <td>1.600000</td>\n",
       "      <td>0.300000</td>\n",
       "      <td>-1.223442e+00</td>\n",
       "    </tr>\n",
       "    <tr>\n",
       "      <th>50%</th>\n",
       "      <td>75.500000</td>\n",
       "      <td>5.800000</td>\n",
       "      <td>3.000000</td>\n",
       "      <td>4.350000</td>\n",
       "      <td>1.300000</td>\n",
       "      <td>3.351431e-01</td>\n",
       "    </tr>\n",
       "    <tr>\n",
       "      <th>75%</th>\n",
       "      <td>112.750000</td>\n",
       "      <td>6.400000</td>\n",
       "      <td>3.300000</td>\n",
       "      <td>5.100000</td>\n",
       "      <td>1.800000</td>\n",
       "      <td>7.602119e-01</td>\n",
       "    </tr>\n",
       "    <tr>\n",
       "      <th>max</th>\n",
       "      <td>150.000000</td>\n",
       "      <td>7.900000</td>\n",
       "      <td>4.400000</td>\n",
       "      <td>6.900000</td>\n",
       "      <td>2.500000</td>\n",
       "      <td>1.780377e+00</td>\n",
       "    </tr>\n",
       "  </tbody>\n",
       "</table>\n",
       "</div>"
      ],
      "text/plain": [
       "               Id  SepalLengthCm  SepalWidthCm  PetalLengthCm  PetalWidthCm  \\\n",
       "count  150.000000     150.000000    150.000000     150.000000    150.000000   \n",
       "mean    75.500000       5.843333      3.054000       3.758667      1.198667   \n",
       "std     43.445368       0.828066      0.433594       1.764420      0.763161   \n",
       "min      1.000000       4.300000      2.000000       1.000000      0.100000   \n",
       "25%     38.250000       5.100000      2.800000       1.600000      0.300000   \n",
       "50%     75.500000       5.800000      3.000000       4.350000      1.300000   \n",
       "75%    112.750000       6.400000      3.300000       5.100000      1.800000   \n",
       "max    150.000000       7.900000      4.400000       6.900000      2.500000   \n",
       "\n",
       "             zscore  \n",
       "count  1.500000e+02  \n",
       "mean  -2.043551e-15  \n",
       "std    1.000000e+00  \n",
       "min   -1.563497e+00  \n",
       "25%   -1.223442e+00  \n",
       "50%    3.351431e-01  \n",
       "75%    7.602119e-01  \n",
       "max    1.780377e+00  "
      ]
     },
     "execution_count": 93,
     "metadata": {},
     "output_type": "execute_result"
    }
   ],
   "source": [
    "iris_dataset.describe()"
   ]
  },
  {
   "cell_type": "code",
   "execution_count": 94,
   "id": "f8cd7ce4",
   "metadata": {},
   "outputs": [],
   "source": [
    "Q1=iris_dataset.SepalWidthCm.quantile(0.25)\n",
    "Q3=iris_dataset.SepalWidthCm.quantile(0.75)"
   ]
  },
  {
   "cell_type": "code",
   "execution_count": 95,
   "id": "6be9713c",
   "metadata": {},
   "outputs": [],
   "source": [
    "IQR=Q3-Q1\n",
    "lower_IQR_range=Q1-1.5*IQR\n",
    "upper_IQR_range=Q3+1.5*IQR"
   ]
  },
  {
   "cell_type": "code",
   "execution_count": 96,
   "id": "a40e9009",
   "metadata": {},
   "outputs": [
    {
     "data": {
      "text/html": [
       "<div>\n",
       "<style scoped>\n",
       "    .dataframe tbody tr th:only-of-type {\n",
       "        vertical-align: middle;\n",
       "    }\n",
       "\n",
       "    .dataframe tbody tr th {\n",
       "        vertical-align: top;\n",
       "    }\n",
       "\n",
       "    .dataframe thead th {\n",
       "        text-align: right;\n",
       "    }\n",
       "</style>\n",
       "<table border=\"1\" class=\"dataframe\">\n",
       "  <thead>\n",
       "    <tr style=\"text-align: right;\">\n",
       "      <th></th>\n",
       "      <th>Id</th>\n",
       "      <th>SepalLengthCm</th>\n",
       "      <th>SepalWidthCm</th>\n",
       "      <th>PetalLengthCm</th>\n",
       "      <th>PetalWidthCm</th>\n",
       "      <th>Species</th>\n",
       "      <th>zscore</th>\n",
       "    </tr>\n",
       "  </thead>\n",
       "  <tbody>\n",
       "    <tr>\n",
       "      <th>15</th>\n",
       "      <td>16</td>\n",
       "      <td>5.7</td>\n",
       "      <td>4.4</td>\n",
       "      <td>1.5</td>\n",
       "      <td>0.4</td>\n",
       "      <td>Iris-setosa</td>\n",
       "      <td>-1.280118</td>\n",
       "    </tr>\n",
       "    <tr>\n",
       "      <th>32</th>\n",
       "      <td>33</td>\n",
       "      <td>5.2</td>\n",
       "      <td>4.1</td>\n",
       "      <td>1.5</td>\n",
       "      <td>0.1</td>\n",
       "      <td>Iris-setosa</td>\n",
       "      <td>-1.280118</td>\n",
       "    </tr>\n",
       "    <tr>\n",
       "      <th>33</th>\n",
       "      <td>34</td>\n",
       "      <td>5.5</td>\n",
       "      <td>4.2</td>\n",
       "      <td>1.4</td>\n",
       "      <td>0.2</td>\n",
       "      <td>Iris-setosa</td>\n",
       "      <td>-1.336794</td>\n",
       "    </tr>\n",
       "    <tr>\n",
       "      <th>60</th>\n",
       "      <td>61</td>\n",
       "      <td>5.0</td>\n",
       "      <td>2.0</td>\n",
       "      <td>3.5</td>\n",
       "      <td>1.0</td>\n",
       "      <td>Iris-versicolor</td>\n",
       "      <td>-0.146601</td>\n",
       "    </tr>\n",
       "  </tbody>\n",
       "</table>\n",
       "</div>"
      ],
      "text/plain": [
       "    Id  SepalLengthCm  SepalWidthCm  PetalLengthCm  PetalWidthCm  \\\n",
       "15  16            5.7           4.4            1.5           0.4   \n",
       "32  33            5.2           4.1            1.5           0.1   \n",
       "33  34            5.5           4.2            1.4           0.2   \n",
       "60  61            5.0           2.0            3.5           1.0   \n",
       "\n",
       "            Species    zscore  \n",
       "15      Iris-setosa -1.280118  \n",
       "32      Iris-setosa -1.280118  \n",
       "33      Iris-setosa -1.336794  \n",
       "60  Iris-versicolor -0.146601  "
      ]
     },
     "execution_count": 96,
     "metadata": {},
     "output_type": "execute_result"
    }
   ],
   "source": [
    "iris_dataset[(iris_dataset.SepalWidthCm>upper_IQR_range)|(iris_dataset.SepalWidthCm<lower_IQR_range)]"
   ]
  },
  {
   "cell_type": "code",
   "execution_count": null,
   "id": "6cee57e3",
   "metadata": {},
   "outputs": [],
   "source": []
  }
 ],
 "metadata": {
  "kernelspec": {
   "display_name": "Python 3 (ipykernel)",
   "language": "python",
   "name": "python3"
  },
  "language_info": {
   "codemirror_mode": {
    "name": "ipython",
    "version": 3
   },
   "file_extension": ".py",
   "mimetype": "text/x-python",
   "name": "python",
   "nbconvert_exporter": "python",
   "pygments_lexer": "ipython3",
   "version": "3.9.7"
  }
 },
 "nbformat": 4,
 "nbformat_minor": 5
}
